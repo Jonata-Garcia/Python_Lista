{
  "cells": [
    {
      "cell_type": "markdown",
      "metadata": {
        "id": "view-in-github",
        "colab_type": "text"
      },
      "source": [
        "<a href=\"https://colab.research.google.com/github/Jonata-Garcia/Python_Lista/blob/main/C%C3%B3pia_de_Conhe%C3%A7a_o_Colab.ipynb\" target=\"_parent\"><img src=\"https://colab.research.google.com/assets/colab-badge.svg\" alt=\"Open In Colab\"/></a>"
      ]
    },
    {
      "cell_type": "markdown",
      "source": [
        "1-Criação de Lista"
      ],
      "metadata": {
        "id": "-ofyQQcH4ijD"
      }
    },
    {
      "cell_type": "code",
      "source": [
        "numeros = [1, 2, 3, 4, 5]\n",
        "print (numeros[3])"
      ],
      "metadata": {
        "colab": {
          "base_uri": "https://localhost:8080/"
        },
        "id": "5CbYL3xL4mlT",
        "outputId": "da61d258-ddf2-44e9-e43e-92458e924706"
      },
      "execution_count": null,
      "outputs": [
        {
          "output_type": "stream",
          "name": "stdout",
          "text": [
            "4\n"
          ]
        }
      ]
    },
    {
      "cell_type": "markdown",
      "source": [
        "2-Soma de Elementos"
      ],
      "metadata": {
        "id": "Uujttkv55DUL"
      }
    },
    {
      "cell_type": "code",
      "source": [
        "numeros = [1, 2, 3, 4, 5]\n",
        "soma = sum(numeros)\n",
        "print (soma)"
      ],
      "metadata": {
        "colab": {
          "base_uri": "https://localhost:8080/"
        },
        "id": "DzG9iXXJ5JSz",
        "outputId": "b8193c5d-6f32-4f52-aa97-abd4c149c61f"
      },
      "execution_count": null,
      "outputs": [
        {
          "output_type": "stream",
          "name": "stdout",
          "text": [
            "15\n"
          ]
        }
      ]
    },
    {
      "cell_type": "markdown",
      "source": [
        "3-Acesso por Índice"
      ],
      "metadata": {
        "id": "uRPaIpUz5l4r"
      }
    },
    {
      "cell_type": "code",
      "source": [
        "frutas = [\"maçã\", \"banana\", \"laranja\"]\n",
        "fruta = frutas[0], frutas[2]\n",
        "print (fruta)\n",
        "#"
      ],
      "metadata": {
        "colab": {
          "base_uri": "https://localhost:8080/"
        },
        "id": "YDvr1qxa5spz",
        "outputId": "14a4ef00-44a3-4019-aab1-1885ab878939"
      },
      "execution_count": null,
      "outputs": [
        {
          "output_type": "stream",
          "name": "stdout",
          "text": [
            "('maçã', 'laranja')\n"
          ]
        }
      ]
    },
    {
      "cell_type": "markdown",
      "source": [
        "4-Adição do Elementos"
      ],
      "metadata": {
        "id": "qr6tHXZa7fZb"
      }
    },
    {
      "cell_type": "code",
      "source": [
        "lista_vazia = []\n",
        "lista_vazia.append(10)\n",
        "lista_vazia.append(20)\n",
        "lista_vazia.append(30)\n",
        "print (lista_vazia)"
      ],
      "metadata": {
        "colab": {
          "base_uri": "https://localhost:8080/"
        },
        "id": "ZP1q5RiE7q0D",
        "outputId": "a7af6b31-16df-4eef-f79d-2b4213ce389a"
      },
      "execution_count": null,
      "outputs": [
        {
          "output_type": "stream",
          "name": "stdout",
          "text": [
            "[10, 20, 30]\n"
          ]
        }
      ]
    },
    {
      "cell_type": "markdown",
      "source": [
        "5-Contagem de Elementos"
      ],
      "metadata": {
        "id": "Q7mjrjpg6H80"
      }
    },
    {
      "cell_type": "code",
      "source": [
        "numeros = [1, 2, 2, 3, 4, 4, 4, 5]\n",
        "contagem = numeros.count(4)\n",
        "print (contagem)"
      ],
      "metadata": {
        "colab": {
          "base_uri": "https://localhost:8080/"
        },
        "id": "uOTn4X4j6NEt",
        "outputId": "ba3a8047-84ae-4dc2-e8c8-a07f1d07dadd"
      },
      "execution_count": null,
      "outputs": [
        {
          "output_type": "stream",
          "name": "stdout",
          "text": [
            "3\n"
          ]
        }
      ]
    },
    {
      "cell_type": "markdown",
      "source": [
        "6-Remoção de Duplicatas"
      ],
      "metadata": {
        "id": "FuI-Lojw6ks0"
      }
    },
    {
      "cell_type": "code",
      "source": [
        "numeros = [1, 2, 2, 3, 4, 4, 5]\n",
        "remover = list(set(numeros))\n",
        "print (remover)"
      ],
      "metadata": {
        "colab": {
          "base_uri": "https://localhost:8080/"
        },
        "id": "rIUa3le-6pLb",
        "outputId": "44a6e5c8-4052-406f-c677-7e20304bc38a"
      },
      "execution_count": null,
      "outputs": [
        {
          "output_type": "stream",
          "name": "stdout",
          "text": [
            "[1, 2, 3, 4, 5]\n"
          ]
        }
      ]
    },
    {
      "cell_type": "markdown",
      "source": [
        "7-Ordenação de Lista"
      ],
      "metadata": {
        "id": "BbNe3vB6-ddL"
      }
    },
    {
      "cell_type": "code",
      "source": [
        "lista = [5, 2, 8, 10]\n",
        "numeros_ordenados = sorted(lista)\n",
        "print (numeros_ordenados)"
      ],
      "metadata": {
        "id": "xb_4-d4H-jcU",
        "outputId": "3d2a3963-db15-42dd-de85-3b3b8e01afe6",
        "colab": {
          "base_uri": "https://localhost:8080/"
        }
      },
      "execution_count": null,
      "outputs": [
        {
          "output_type": "stream",
          "name": "stdout",
          "text": [
            "[2, 5, 8, 10]\n"
          ]
        }
      ]
    },
    {
      "cell_type": "markdown",
      "source": [
        "8-Média dos Elementos"
      ],
      "metadata": {
        "id": "Krmsq77a_0Bb"
      }
    },
    {
      "cell_type": "code",
      "source": [
        "lista = [2, 4, 8, 10]\n",
        "media = sum(lista) / len(lista)\n",
        "print (media)"
      ],
      "metadata": {
        "id": "LlGWM-14_4TE",
        "outputId": "7cd65a8a-f183-4d47-a853-64acde51a9e9",
        "colab": {
          "base_uri": "https://localhost:8080/"
        }
      },
      "execution_count": null,
      "outputs": [
        {
          "output_type": "stream",
          "name": "stdout",
          "text": [
            "6.0\n"
          ]
        }
      ]
    },
    {
      "cell_type": "markdown",
      "source": [
        "DIFICEIS 9-Inversão de Lista"
      ],
      "metadata": {
        "id": "sCFHnqihARdk"
      }
    },
    {
      "cell_type": "code",
      "source": [
        "lista = [1,2,3,4,5]\n",
        "lista_invertida = lista [::-1]\n",
        "print (lista_invertida)\n"
      ],
      "metadata": {
        "id": "SEps0AUhAc48",
        "outputId": "bb8ac8b5-1e8d-49f4-acaf-0dfc9ba62615",
        "colab": {
          "base_uri": "https://localhost:8080/"
        }
      },
      "execution_count": null,
      "outputs": [
        {
          "output_type": "stream",
          "name": "stdout",
          "text": [
            "[5, 4, 3, 2, 1]\n"
          ]
        }
      ]
    },
    {
      "cell_type": "markdown",
      "source": [
        "10-Inteseção de listas"
      ],
      "metadata": {
        "id": "8sc7pvJABWh8"
      }
    },
    {
      "cell_type": "code",
      "source": [
        "lista1 = [1,2,3,4,5,]\n",
        "lista2 = [3,4,5,6,7]\n",
        "interseccao = list(set(lista1) & set(lista2))\n",
        "print (interseccao)"
      ],
      "metadata": {
        "id": "Z67LjSJQBhwk",
        "outputId": "5233f5bd-5a13-4c83-e02a-76a98c024401",
        "colab": {
          "base_uri": "https://localhost:8080/"
        }
      },
      "execution_count": null,
      "outputs": [
        {
          "output_type": "stream",
          "name": "stdout",
          "text": [
            "[3, 4, 5]\n"
          ]
        }
      ]
    }
  ],
  "metadata": {
    "colab": {
      "provenance": [],
      "include_colab_link": true
    },
    "kernelspec": {
      "display_name": "Python 3",
      "name": "python3"
    }
  },
  "nbformat": 4,
  "nbformat_minor": 0
}